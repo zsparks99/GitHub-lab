{
 "cells": [
  {
   "cell_type": "markdown",
   "id": "66312bed",
   "metadata": {},
   "source": [
    "# Data Science Tools and Ecosystem"
   ]
  },
  {
   "cell_type": "markdown",
   "id": "a2dd7cdb",
   "metadata": {},
   "source": [
    "In this notebook, Data Science Tools and Ecosystem are summarized"
   ]
  },
  {
   "cell_type": "markdown",
   "id": "293d04cf",
   "metadata": {},
   "source": [
    "**Objectives:**\n",
    "    \n",
    "+ Create a Jupyter Notebook with markdown and code cells\n",
    "+ List examples of languages, libraries and tools used in Data Science\n",
    "+ Share Jupyter Notebook publicly on GitHub\n"
   ]
  },
  {
   "cell_type": "markdown",
   "id": "1ddacd7c",
   "metadata": {},
   "source": [
    "+ 1. Python\n",
    "+ 2. R\n",
    "+ 3. SQL"
   ]
  },
  {
   "cell_type": "markdown",
   "id": "32aa95bf",
   "metadata": {},
   "source": [
    "+ 1. Numpy\n",
    "+ 2. Pandas\n",
    "+ 3. Matplotlib"
   ]
  },
  {
   "cell_type": "markdown",
   "id": "b02b0eb6",
   "metadata": {},
   "source": [
    "|Data Science Tools|\n",
    "|------------------|\n",
    "|    R Studio      |\n",
    "| Apache Spark     |\n",
    "| Apache Hadoop    |"
   ]
  },
  {
   "cell_type": "markdown",
   "id": "855f44ba",
   "metadata": {},
   "source": [
    "### Below are a few examples of evaluating arithmetic expressions in Python"
   ]
  },
  {
   "cell_type": "code",
   "execution_count": 1,
   "id": "5fca29c8",
   "metadata": {},
   "outputs": [
    {
     "data": {
      "text/plain": [
       "17"
      ]
     },
     "execution_count": 1,
     "metadata": {},
     "output_type": "execute_result"
    }
   ],
   "source": [
    "#This a simple arithmetic expression to mutiply then add integers\n",
    "\n",
    "(3*4)+5"
   ]
  },
  {
   "cell_type": "code",
   "execution_count": 2,
   "id": "0dbf6854",
   "metadata": {},
   "outputs": [
    {
     "data": {
      "text/plain": [
       "3.3333333333333335"
      ]
     },
     "execution_count": 2,
     "metadata": {},
     "output_type": "execute_result"
    }
   ],
   "source": [
    "# This will convert 200 minutes to hours by diving by 60\n",
    "\n",
    "200/60\n"
   ]
  },
  {
   "cell_type": "markdown",
   "id": "7d34405d",
   "metadata": {},
   "source": [
    "## Zahid Ihsan\n",
    "\n",
    "Author\n"
   ]
  },
  {
   "cell_type": "code",
   "execution_count": null,
   "id": "6acc7d8a",
   "metadata": {},
   "outputs": [],
   "source": []
  }
 ],
 "metadata": {
  "kernelspec": {
   "display_name": "Python 3 (ipykernel)",
   "language": "python",
   "name": "python3"
  },
  "language_info": {
   "codemirror_mode": {
    "name": "ipython",
    "version": 3
   },
   "file_extension": ".py",
   "mimetype": "text/x-python",
   "name": "python",
   "nbconvert_exporter": "python",
   "pygments_lexer": "ipython3",
   "version": "3.11.3"
  }
 },
 "nbformat": 4,
 "nbformat_minor": 5
}
